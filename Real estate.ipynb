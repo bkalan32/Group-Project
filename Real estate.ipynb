{
 "cells": [
  {
   "attachments": {},
   "cell_type": "markdown",
   "metadata": {},
   "source": [
    "### Importing libs"
   ]
  },
  {
   "cell_type": "code",
   "execution_count": null,
   "metadata": {},
   "outputs": [],
   "source": [
    "import pandas as pd\n",
    "from pathlib import Path\n",
    "import numpy as np\n",
    "import matplotlib.pyplot as plt\n",
    "import hvplot.pandas\n",
    "import plotly.express as px\n"
   ]
  },
  {
   "attachments": {},
   "cell_type": "markdown",
   "metadata": {},
   "source": [
    "## First df\n",
    "#### This dataset record real estate sale from 2001 to 2020 in 170 town in the US"
   ]
  },
  {
   "cell_type": "code",
   "execution_count": null,
   "metadata": {},
   "outputs": [],
   "source": [
    "\n",
    "df = Path('csvfiles/re_sale.csv')\n",
    "df = pd.read_csv(df,index_col='Date Recorded', infer_datetime_format=True, parse_dates=True)\n",
    "df.sort_index(inplace=True)\n",
    "\n",
    "display(df)\n",
    "df.columns"
   ]
  },
  {
   "cell_type": "code",
   "execution_count": null,
   "metadata": {},
   "outputs": [],
   "source": [
    "california_df = df.fillna('Unkown')\n",
    "california_df = df.drop(columns=['Address','Serial Number', 'Assessed Value', 'Sales Ratio','Property Type',])\n",
    "california_df = california_df.replace(np.nan, 'Unknown')\n",
    "\n",
    "\n",
    "display(california_df.head(10))\n",
    "display(california_df.tail(10))\n",
    "#california_df.columns"
   ]
  },
  {
   "attachments": {},
   "cell_type": "markdown",
   "metadata": {},
   "source": [
    "## Second df\n",
    "#### This datacontains data on City of Hartford real estate sales for the last two years, with comprehensive records including property ID, parcel ID, sale date, sale price and more. This dataset is continuously updated each night and sourced from an official reliable source."
   ]
  },
  {
   "cell_type": "code",
   "execution_count": null,
   "metadata": {},
   "outputs": [],
   "source": [
    "df2_path = Path('csvfiles/real-estate-sales-730-days-1.csv')\n",
    "df2 = pd.read_csv(df2_path,index_col='SaleDate', infer_datetime_format=True, parse_dates=True)\n",
    "df2.sort_index(inplace=True)\n",
    "df2= df2.replace(np.nan, 'Unknown')\n",
    "display(df2.head(10))\n",
    "\n",
    "\n",
    "\n",
    "df2_cleaned = df2 [['OwnerFirstName','OwnerLastName','StreetNameAndWay','PrimaryGrantor', 'SalePrice', 'LegalReference','ParcelID']]\n",
    "\n",
    "df2_final = df2_cleaned.drop(columns=['OwnerFirstName','OwnerLastName','StreetNameAndWay','PrimaryGrantor','SalePrice','LegalReference'])\n",
    "df2_final\n",
    "display(df2_final.head(10))\n",
    "display(df2_final.tail(10))\n",
    "df2_final.columns"
   ]
  },
  {
   "attachments": {},
   "cell_type": "markdown",
   "metadata": {},
   "source": [
    "### Third df\n",
    "#### This table contains property sales information including sale date, price, and amounts for properties within Fairfax County"
   ]
  },
  {
   "cell_type": "code",
   "execution_count": null,
   "metadata": {},
   "outputs": [],
   "source": [
    "df3_path = Path('csvfiles/Tax_Administration_s_Real_Estate_-_Sales_Data_cutdown.csv')\n",
    "#df3 = pd.read_csv(df3_path)\n",
    "df3 = pd.read_csv(df3_path, index_col='SALEDT', infer_datetime_format=True, parse_dates=True)\n",
    "df3.sort_index(inplace=True)\n",
    "df3 = df3.replace(np.nan, 'Uknown')\n",
    "display(df3)\n",
    "\n",
    "df3.columns"
   ]
  },
  {
   "cell_type": "code",
   "execution_count": null,
   "metadata": {},
   "outputs": [],
   "source": [
    "df3_cleaned = df3.drop(columns=['TAXYR','OBJECTID','PRICE','Unnamed: 0'])\n",
    "df3_cleaned = df3_cleaned.rename(columns={\n",
    "    'PARID' : 'ParcelID'\n",
    "})\n",
    "#df3_combine['SaleDate'] = pd.to_datetime (df3_combine['SaleDate'])\n"
   ]
  },
  {
   "cell_type": "code",
   "execution_count": null,
   "metadata": {},
   "outputs": [],
   "source": [
    "df3_cleaned.index.names = ['SaleDate']\n",
    "df3_combine = df3_cleaned.query('index > \"2014-12-31\"')\n",
    "display(df3_combine.head(10))\n",
    "display(df3_combine.tail(10))\n",
    "df3_combine.dtypes\n"
   ]
  },
  {
   "attachments": {},
   "cell_type": "markdown",
   "metadata": {},
   "source": [
    "### Combined DF"
   ]
  },
  {
   "cell_type": "code",
   "execution_count": null,
   "metadata": {},
   "outputs": [],
   "source": [
    "joined_df_friction = pd.merge(df2_final,\n",
    "                               df3_combine, \n",
    "                               left_index = True, \n",
    "                               right_index = True,\n",
    "                               how = \"outer\"\n",
    ")\n",
    "display(joined_df_friction)"
   ]
  },
  {
   "attachments": {},
   "cell_type": "markdown",
   "metadata": {},
   "source": [
    "### 2020 Slice data"
   ]
  },
  {
   "cell_type": "code",
   "execution_count": null,
   "metadata": {},
   "outputs": [],
   "source": [
    "sale_date_df = joined_df_friction.drop(columns=['ParcelID_x','ParcelID_y'])\n",
    "display(sale_date_df)\n"
   ]
  },
  {
   "attachments": {},
   "cell_type": "markdown",
   "metadata": {},
   "source": [
    "### Sale date and Estimated move in date"
   ]
  },
  {
   "cell_type": "code",
   "execution_count": null,
   "metadata": {},
   "outputs": [],
   "source": [
    "sale_date_df['Estimated Move in Date'] = sale_date_df.index + pd.to_timedelta(np.random.randint(30, 70, size=len(sale_date_df)), unit='D')\n",
    "display(sale_date_df)"
   ]
  },
  {
   "attachments": {},
   "cell_type": "markdown",
   "metadata": {},
   "source": [
    "### Data + Days-difference and indexed"
   ]
  },
  {
   "cell_type": "code",
   "execution_count": null,
   "metadata": {},
   "outputs": [],
   "source": [
    "sale_date_df['days_difference'] = (sale_date_df['Estimated Move in Date'] - sale_date_df.index).dt.days\n",
    "display(sale_date_df)"
   ]
  },
  {
   "attachments": {},
   "cell_type": "markdown",
   "metadata": {},
   "source": [
    "## Grouped by year"
   ]
  },
  {
   "cell_type": "code",
   "execution_count": null,
   "metadata": {},
   "outputs": [],
   "source": [
    "sale_date_df['year'] = sale_date_df.index.year\n",
    "yearly_average = sale_date_df.groupby('year')['days_difference'].mean().reset_index()\n",
    "display(yearly_average)"
   ]
  },
  {
   "attachments": {},
   "cell_type": "markdown",
   "metadata": {},
   "source": [
    "## Dataframe with Sale and Move in dates"
   ]
  },
  {
   "cell_type": "code",
   "execution_count": null,
   "metadata": {},
   "outputs": [],
   "source": [
    "housing_data = sale_date_df.reset_index()\n",
    "housing_data = housing_data.drop(columns=['year'])\n",
    "display(housing_data.tail(10))"
   ]
  },
  {
   "attachments": {},
   "cell_type": "markdown",
   "metadata": {},
   "source": [
    "### Monthly average"
   ]
  },
  {
   "cell_type": "code",
   "execution_count": null,
   "metadata": {},
   "outputs": [],
   "source": [
    "housing_data['month'] = housing_data['SaleDate'].dt.month\n",
    "housing_data['year'] = housing_data['SaleDate'].dt.year\n",
    "result = housing_data.groupby(['year', 'month'])['days_difference'].mean()\n",
    "result = result.reset_index()\n",
    "\n",
    "display(result)"
   ]
  },
  {
   "cell_type": "code",
   "execution_count": null,
   "metadata": {},
   "outputs": [],
   "source": [
    "start_date = '2020-01-01'\n",
    "end_date = '2020-01-31'\n",
    "mask = (housing_data['SaleDate'] >= start_date) & (housing_data['SaleDate'] <= end_date)\n",
    "janurary_df = housing_data.loc[mask]\n",
    "janurary_df = janurary_df.drop(columns=['month','year'])\n",
    "display(janurary_df)\n",
    "    "
   ]
  },
  {
   "attachments": {},
   "cell_type": "markdown",
   "metadata": {},
   "source": [
    "## Jan 2023 transactions"
   ]
  },
  {
   "cell_type": "code",
   "execution_count": null,
   "metadata": {},
   "outputs": [],
   "source": [
    "start_date = '2020-01-01'\n",
    "end_date = '2020-01-31'\n",
    "mask = (housing_data['SaleDate'] >= start_date) & (housing_data['SaleDate'] <= end_date)\n",
    "janurary_df = housing_data.loc[mask]\n",
    "janurary_df = janurary_df.drop(columns=['month','year'])\n",
    "jan_plot = janurary_df.iloc[::50]\n",
    "\n",
    "display(jan_plot)\n",
    "display(janurary_df)\n"
   ]
  },
  {
   "attachments": {},
   "cell_type": "markdown",
   "metadata": {},
   "source": [
    "## Jan 2023 House sales"
   ]
  },
  {
   "cell_type": "code",
   "execution_count": null,
   "metadata": {},
   "outputs": [],
   "source": [
    "jan_plot.hvplot.hist(\n",
    "    #x ='SaleDate',\n",
    "    y ='days_difference',\n",
    "    xlabel=\"Purchase Date\",\n",
    "    ylabel=\"Days Waiting to Move In\",\n",
    "    title=\"Histogram of Days Till Move In\",\n",
    "    rot = 75,\n",
    "    width = 900, \n",
    "    height = 500,\n",
    "    #stacked = True\n",
    "    )"
   ]
  },
  {
   "cell_type": "code",
   "execution_count": null,
   "metadata": {},
   "outputs": [],
   "source": []
  }
 ],
 "metadata": {
  "kernelspec": {
   "display_name": "dev",
   "language": "python",
   "name": "python3"
  },
  "language_info": {
   "codemirror_mode": {
    "name": "ipython",
    "version": 3
   },
   "file_extension": ".py",
   "mimetype": "text/x-python",
   "name": "python",
   "nbconvert_exporter": "python",
   "pygments_lexer": "ipython3",
   "version": "3.7.13"
  },
  "orig_nbformat": 4
 },
 "nbformat": 4,
 "nbformat_minor": 2
}
