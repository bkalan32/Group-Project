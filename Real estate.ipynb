{
 "cells": [
  {
   "cell_type": "markdown",
   "metadata": {},
   "source": [
    "### Importing libs"
   ]
  },
  {
   "cell_type": "code",
   "execution_count": null,
   "metadata": {},
   "outputs": [],
   "source": [
    "import pandas as pd\n",
    "from pathlib import Path\n",
    "import numpy as np\n",
    "import hvplot.pandas\n",
    "import holoviews as hv"
   ]
  },
  {
   "attachments": {},
   "cell_type": "markdown",
   "metadata": {},
   "source": [
    "## Second df\n",
    "#### This data contains data on City of Hartford real estate sales for the last two years, with comprehensive records including property ID, parcel ID, sale date, sale price and more. "
   ]
  },
  {
   "cell_type": "code",
   "execution_count": null,
   "metadata": {},
   "outputs": [],
   "source": [
    "df2_path = Path('csv_resources/real-estate-sales-730-days-1.csv')\n",
    "df2 = pd.read_csv(df2_path,index_col='SaleDate', infer_datetime_format=True, parse_dates=True)\n",
    "df2.sort_index(inplace=True)\n",
    "df2= df2.replace(np.nan, 'Unknown')\n",
    "display(df2.head(10))\n",
    "\n",
    "\n",
    "\n",
    "df2_cleaned = df2 [['OwnerFirstName','OwnerLastName','StreetNameAndWay','PrimaryGrantor', 'SalePrice', 'LegalReference','ParcelID']]\n",
    "\n",
    "df2_final = df2_cleaned.drop(columns=['OwnerFirstName','OwnerLastName','StreetNameAndWay','PrimaryGrantor','SalePrice','LegalReference'])\n",
    "df2_final\n",
    "display(df2_final.head(10))\n",
    "display(df2_final.tail(10))\n",
    "df2_final.columns"
   ]
  },
  {
   "cell_type": "markdown",
   "metadata": {},
   "source": [
    "### Third df\n",
    "#### This table contains property sales information including sale date, price, and amounts for properties within Fairfax County"
   ]
  },
  {
   "cell_type": "code",
   "execution_count": null,
   "metadata": {},
   "outputs": [],
   "source": [
    "df3_path = Path('csv_resources/Tax_Administration_s_Real_Estate_-_Sales_Data_cutdown1.csv')\n",
    "#df3 = pd.read_csv(df3_path)\n",
    "df3 = pd.read_csv(df3_path, index_col='SALEDT', infer_datetime_format=True, parse_dates=True)\n",
    "df3.sort_index(inplace=True)\n",
    "df3 = df3.replace(np.nan, 'Uknown')\n",
    "display(df3)\n",
    "\n",
    "df3.columns"
   ]
  },
  {
   "cell_type": "code",
   "execution_count": null,
   "metadata": {},
   "outputs": [],
   "source": [
    "df3_cleaned = df3.drop(columns=['Unnamed: 0'])\n",
    "\n"
   ]
  },
  {
   "cell_type": "code",
   "execution_count": null,
   "metadata": {},
   "outputs": [],
   "source": [
    "df3_cleaned.index.names = ['SaleDate']\n",
    "df3_combine = df3_cleaned.query('index > \"2014-12-31\"')\n",
    "display(df3_combine.head(10))\n",
    "display(df3_combine.tail(10))\n",
    "df3_combine.dtypes\n"
   ]
  },
  {
   "attachments": {},
   "cell_type": "markdown",
   "metadata": {},
   "source": [
    "### Combined DF 2 & DF 3"
   ]
  },
  {
   "cell_type": "code",
   "execution_count": null,
   "metadata": {},
   "outputs": [],
   "source": [
    "joined_df_friction = pd.merge(df2_final,\n",
    "                               df3_combine, \n",
    "                               left_index = True, \n",
    "                               right_index = True,\n",
    "                               how = \"outer\"\n",
    ")\n",
    "display(joined_df_friction)"
   ]
  },
  {
   "attachments": {},
   "cell_type": "markdown",
   "metadata": {},
   "source": [
    "### Last cleaning"
   ]
  },
  {
   "cell_type": "code",
   "execution_count": null,
   "metadata": {},
   "outputs": [],
   "source": [
    "sale_date_df = joined_df_friction.drop(columns=['ParcelID'])\n",
    "display(sale_date_df)\n"
   ]
  },
  {
   "cell_type": "markdown",
   "metadata": {},
   "source": [
    "### Sale date and Estimated move in date"
   ]
  },
  {
   "cell_type": "code",
   "execution_count": null,
   "metadata": {},
   "outputs": [],
   "source": [
    "sale_date_df['Estimated Move in Date'] = sale_date_df.index + pd.to_timedelta(np.random.randint(25, 70, size=len(sale_date_df)), unit='D')\n",
    "display(sale_date_df)"
   ]
  },
  {
   "cell_type": "markdown",
   "metadata": {},
   "source": [
    "### Data + Days-difference and indexed"
   ]
  },
  {
   "cell_type": "code",
   "execution_count": null,
   "metadata": {},
   "outputs": [],
   "source": [
    "sale_date_df['days_difference'] = (sale_date_df['Estimated Move in Date'] - sale_date_df.index).dt.days\n",
    "display(sale_date_df)"
   ]
  },
  {
   "cell_type": "markdown",
   "metadata": {},
   "source": [
    "## Grouped by year"
   ]
  },
  {
   "cell_type": "code",
   "execution_count": null,
   "metadata": {},
   "outputs": [],
   "source": [
    "sale_date_df['year'] = sale_date_df.index.year\n",
    "yearly_average = sale_date_df.groupby('year')['days_difference'].mean().reset_index()\n",
    "display(yearly_average)"
   ]
  },
  {
   "attachments": {},
   "cell_type": "markdown",
   "metadata": {},
   "source": [
    "## Created Dataframe with Sale and Move in dates"
   ]
  },
  {
   "cell_type": "code",
   "execution_count": null,
   "metadata": {},
   "outputs": [],
   "source": [
    "housing_data = sale_date_df.reset_index()\n",
    "housing_data = housing_data.drop(columns=['year'])\n",
    "display(housing_data.tail(10))"
   ]
  },
  {
   "cell_type": "markdown",
   "metadata": {},
   "source": [
    "### Monthly average"
   ]
  },
  {
   "cell_type": "code",
   "execution_count": null,
   "metadata": {},
   "outputs": [],
   "source": [
    "housing_data['month'] = housing_data['SaleDate'].dt.month\n",
    "housing_data['year'] = housing_data['SaleDate'].dt.year\n",
    "result = housing_data.groupby(['year', 'month'])['days_difference'].mean()\n",
    "result = result.reset_index()\n",
    "\n",
    "display(result)"
   ]
  },
  {
   "cell_type": "markdown",
   "metadata": {},
   "source": [
    "## Jan 2023 transactions"
   ]
  },
  {
   "cell_type": "code",
   "execution_count": null,
   "metadata": {},
   "outputs": [],
   "source": [
    "start_date = '2020-01-01'\n",
    "end_date = '2020-01-31'\n",
    "mask = (housing_data['SaleDate'] >= start_date) & (housing_data['SaleDate'] <= end_date)\n",
    "janurary_df = housing_data.loc[mask]\n",
    "janurary_df = janurary_df.drop(columns=['month','year'])\n",
    "jan_plot = janurary_df.iloc[::75]\n",
    "\n",
    "display(jan_plot)\n"
   ]
  },
  {
   "attachments": {},
   "cell_type": "markdown",
   "metadata": {},
   "source": [
    "## Jan 2023 Bar House sales Plot"
   ]
  },
  {
   "cell_type": "code",
   "execution_count": null,
   "metadata": {},
   "outputs": [],
   "source": [
    "jan_plot['SaleDate'] = jan_plot['SaleDate'].dt.date"
   ]
  },
  {
   "cell_type": "code",
   "execution_count": null,
   "metadata": {},
   "outputs": [],
   "source": [
    "\n",
    "def get_color(value):\n",
    "    if 25 <= value < 40:\n",
    "        return '#8bab7c'\n",
    "    elif 40 <= value < 50:\n",
    "       return '#d8cfad'\n",
    "    elif 50 <= value < 60:\n",
    "        return '#d69163'\n",
    "    elif 60 <=value < 70:\n",
    "        return '#de425b'\n",
    "    else:\n",
    "        return 'gray'\n",
    "\n",
    "jan_plot['color'] = jan_plot['days_difference'].apply(get_color)\n",
    "\n",
    "jan_plot.hvplot.bar(\n",
    "    x ='SaleDate',\n",
    "    y ='days_difference',\n",
    "    xlabel=\"Purchase Date\",\n",
    "    ylabel=\"Days Waiting to Move In\",\n",
    "    title=\"The Wait After The Purchase\",\n",
    "    rot = 80,\n",
    "    width = 900,\n",
    "    height = 500,\n",
    "    color = 'color',\n",
    "    ).opts(\n",
    "    bgcolor='#003f5c',\n",
    "    show_grid=True\n",
    "    )\n",
    "    "
   ]
  },
  {
   "attachments": {},
   "cell_type": "markdown",
   "metadata": {},
   "source": [
    "### Avergage move in days plot"
   ]
  },
  {
   "cell_type": "code",
   "execution_count": null,
   "metadata": {},
   "outputs": [],
   "source": [
    "\n",
    "yearly_average.hvplot.line(\n",
    "    x ='year',\n",
    "    y ='days_difference',\n",
    "    xlabel=\"Purchase year\",\n",
    "    ylabel=\"Days Waiting to Move In\",\n",
    "    title=\"Average waiting period to move in\",\n",
    "    rot = 45,\n",
    "    width = 700,\n",
    "    height = 400,\n",
    "    ylim = (45,50),\n",
    "    color = '#ffa600',\n",
    "    line_width=3\n",
    "  \n",
    "    ) .opts (\n",
    "    bgcolor='#003f5c',\n",
    "    show_grid=True,\n",
    "    gridstyle={'grid_line_color': 'grey'}\n",
    "    )"
   ]
  },
  {
   "attachments": {},
   "cell_type": "markdown",
   "metadata": {},
   "source": [
    "### Dual Line plot, Sales Vs Move in date "
   ]
  },
  {
   "cell_type": "code",
   "execution_count": null,
   "metadata": {},
   "outputs": [],
   "source": [
    "jan_plot.hvplot.line(\n",
    "    x ='index',\n",
    "    y =['SaleDate', 'Estimated Move in Date'],\n",
    "    xlabel=\"House Unit\",\n",
    "    ylabel=\"Dates\",\n",
    "    title=\"Purchase date VS Move-In dates\",\n",
    "    rot = 80,\n",
    "    width = 900,\n",
    "    height = 500,\n",
    "    line_dash=['solid', 'dotted'],\n",
    "    line_width=[3, 3],\n",
    "    color=['#bc5090', '#ffa600']\n",
    "\n",
    ").opts(\n",
    "    xformatter = '%.0f',\n",
    "    bgcolor='#003f5c',\n",
    "    show_grid=True,\n",
    "    gridstyle={'grid_line_color': 'grey'}\n",
    ")"
   ]
  },
  {
   "attachments": {},
   "cell_type": "markdown",
   "metadata": {},
   "source": [
    "### Df for security\n",
    "\n",
    "#### This Dataframe contains nationwide real estate records from 2017 "
   ]
  },
  {
   "cell_type": "code",
   "execution_count": null,
   "metadata": {},
   "outputs": [],
   "source": [
    "sec_df1_path =Path('csv_resources/hmda_2017_nationwide_first-lien-owner-occupied-1-4-family-records_labels_cutdown.csv') \n",
    "sec_df1 = pd.read_csv(sec_df1_path)\n",
    "display(sec_df1)\n",
    "sec_df1.columns\n",
    "sec_info= sec_df1.drop(columns=['Unnamed: 0','agency_code','msamd_name','census_tract_number','co_applicant_ethnicity_name','co_applicant_sex_name','denial_reason_name_1','hoepa_status_name']) \n",
    "display(sec_info)\n"
   ]
  },
  {
   "cell_type": "code",
   "execution_count": null,
   "metadata": {},
   "outputs": [],
   "source": [
    "sec_df2_path =Path('csv_resources/real-estate-sales-730-days-1.csv') \n",
    "sec_df2 = pd.read_csv(sec_df2_path, index_col='OwnerFirstName')\n",
    "display(sec_df2)"
   ]
  },
  {
   "cell_type": "code",
   "execution_count": null,
   "metadata": {},
   "outputs": [],
   "source": [
    "sec_df2.columns\n",
    "sec_df_clean = sec_df2.drop(columns=['xrCompositeLandUseID', 'xrBuildingTypeID','xrSalesValidityID', 'xrDeedID',\n",
    "                                     'xrPrimaryNeighborhoodID', 'LandSF',\n",
    "                                    'TotalFinishedArea', 'LivingUnits','LocationStartNumber',\n",
    "                                    ])\n",
    "sec_df_clean.columns\n",
    "\n",
    "sec_df_clean2 = sec_df_clean[['OwnerLastName','ParcelID','PropertyID', 'ApartmentUnitNumber','PrimaryGrantor',\n",
    "       'SaleDate', 'SalePrice', 'TotalAppraisedValue', 'LegalReference']]\n",
    "display(sec_df_clean2.head(20))"
   ]
  }
 ],
 "metadata": {
  "kernelspec": {
   "display_name": "Python 3 (ipykernel)",
   "language": "python",
   "name": "python3"
  },
  "language_info": {
   "codemirror_mode": {
    "name": "ipython",
    "version": 3
   },
   "file_extension": ".py",
   "mimetype": "text/x-python",
   "name": "python",
   "nbconvert_exporter": "python",
   "pygments_lexer": "ipython3",
   "version": "3.7.13"
  }
 },
 "nbformat": 4,
 "nbformat_minor": 4
}
