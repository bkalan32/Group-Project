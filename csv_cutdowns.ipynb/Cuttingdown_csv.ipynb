{
 "cells": [
  {
   "attachments": {},
   "cell_type": "markdown",
   "metadata": {},
   "source": [
    "### Importing libs"
   ]
  },
  {
   "cell_type": "code",
   "execution_count": null,
   "metadata": {},
   "outputs": [],
   "source": [
    "import pandas as pd\n",
    "from pathlib import Path"
   ]
  },
  {
   "attachments": {},
   "cell_type": "markdown",
   "metadata": {},
   "source": [
    "## DF1\n",
    "#### Cutting down SBAnational csv"
   ]
  },
  {
   "cell_type": "code",
   "execution_count": null,
   "metadata": {},
   "outputs": [],
   "source": [
    "\n",
    "df = Path('../../../ASU-VIRT-FIN-PT-02-2023-U-LOLC/03-Projects/Group-Project/csvfiles/SBAnational.csv')\n",
    "df = pd.read_csv(df,index_col='ApprovalDate', infer_datetime_format=True, parse_dates=True)\n",
    "df.sort_index(inplace=True)\n",
    "\n",
    "display(df)\n",
    "df.columns"
   ]
  },
  {
   "cell_type": "code",
   "execution_count": null,
   "metadata": {},
   "outputs": [],
   "source": [
    "sba_df = df[(df.index >= '2014-01-01')&(df.index <= '2020-01-01')]\n",
    "sba_cutdown_df = sba_df.drop(columns=['LoanNr_ChkDgt','CreateJob',\n",
    "                                       'RetainedJob','UrbanRural','NewExist',\n",
    "                                       'FranchiseCode','BalanceGross', 'MIS_Status', \n",
    "                                       'ChgOffPrinGr','LowDoc','ChgOffDate',\n",
    "                                       'DisbursementDate','DisbursementGross','ApprovalFY','NAICS'])\n",
    "display(sba_cutdown_df)\n",
    "sba_cutdown_df.columns\n"
   ]
  },
  {
   "cell_type": "code",
   "execution_count": null,
   "metadata": {},
   "outputs": [],
   "source": [
    "sba_cutdown_df.to_csv('SBAnational_cutdown.csv')"
   ]
  },
  {
   "attachments": {},
   "cell_type": "markdown",
   "metadata": {},
   "source": [
    "## DF2\n",
    "#### Cutting down re_sale_csv"
   ]
  },
  {
   "cell_type": "code",
   "execution_count": null,
   "metadata": {},
   "outputs": [],
   "source": [
    "df2_path = Path('../../../ASU-VIRT-FIN-PT-02-2023-U-LOLC/03-Projects/Group-Project/csvfiles/re_sale.csv')\n",
    "df2 = pd.read_csv(df2_path,index_col='Date Recorded', infer_datetime_format=True, parse_dates=True)\n",
    "df2.sort_index(inplace=True)\n",
    "\n",
    "display(df2)\n",
    "df2.columns"
   ]
  },
  {
   "cell_type": "code",
   "execution_count": null,
   "metadata": {},
   "outputs": [],
   "source": [
    "re_df = df2[(df2.index>='2015-01-01')&(df2.index<='2020-01-01')]\n",
    "display(re_df)\n",
    "re_df.columns\n",
    "re_df =re_df.drop(columns=['Serial Number'])\n",
    "display(re_df)\n",
    "\n"
   ]
  },
  {
   "cell_type": "code",
   "execution_count": null,
   "metadata": {},
   "outputs": [],
   "source": [
    "re_df.to_csv('re_sale_cutdown.csv')"
   ]
  },
  {
   "attachments": {},
   "cell_type": "markdown",
   "metadata": {},
   "source": [
    "## DF3\n",
    "#### Cutting down hmda_2017_nationwide csv file"
   ]
  },
  {
   "cell_type": "code",
   "execution_count": null,
   "metadata": {},
   "outputs": [],
   "source": [
    "df3_path = Path('../../../ASU-VIRT-FIN-PT-02-2023-U-LOLC/03-Projects/Group-Project/csvfiles/hmda_2017_nationwide_first-lien-owner-occupied-1-4-family-records_labels.csv')\n",
    "df3 = pd.read_csv(df3_path)#index_col='Date Recorded', infer_datetime_format=True, parse_dates=True)\n",
    "df3.sort_index(inplace=True)\n"
   ]
  },
  {
   "cell_type": "code",
   "execution_count": null,
   "metadata": {},
   "outputs": [],
   "source": [
    "display(df3.head())\n",
    "df3.columns"
   ]
  },
  {
   "cell_type": "code",
   "execution_count": null,
   "metadata": {},
   "outputs": [],
   "source": [
    "df3_semi_clean = df3.drop(columns=['state_name','co_applicant_ethnicity'\n",
    ",'applicant_race_name_1', 'applicant_race_1'\n",
    ",'applicant_race_name_2','applicant_race_2'\n",
    ",'applicant_race_name_3', 'applicant_race_3'\n",
    ",'applicant_race_name_4', 'applicant_race_4'\n",
    ",'applicant_race_name_5','applicant_race_5'\n",
    ",'co_applicant_race_name_1','co_applicant_race_1','co_applicant_race_name_2'\n",
    ",'co_applicant_race_2','loan_purpose'\n",
    ",'co_applicant_race_name_3','co_applicant_race_3'\n",
    ",'co_applicant_race_name_4','co_applicant_race_4'\n",
    ",'co_applicant_race_name_5', 'co_applicant_race_5','applicant_sex'\n",
    ",'co_applicant_sex','number_of_1_to_4_family_units', 'application_date_indicator'\n",
    ",'respondent_id','agency_abbr','loan_type'\n",
    ",'property_type','preapproval','preapproval','msamd','tract_to_msamd_income'\n",
    ",'number_of_owner_occupied_units','hoepa_status','lien_status'\n",
    ",'edit_status_name', 'edit_status', 'sequence_number'\n",
    ",'population', 'denial_reason_1'\n",
    ",'denial_reason_name_2', 'denial_reason_2', 'denial_reason_name_3'\n",
    ",'denial_reason_3', 'rate_spread','owner_occupancy_name'\n",
    ",'owner_occupancy_name','preapproval_name','property_type_name'\n",
    ",'owner_occupancy','action_taken','county_code','purchaser_type_name'\n",
    ",'minority_population','state_code','applicant_ethnicity'\n",
    ",'purchaser_type'])"
   ]
  },
  {
   "cell_type": "code",
   "execution_count": null,
   "metadata": {},
   "outputs": [],
   "source": [
    "display(df3_semi_clean.head())\n",
    "df3_semi_clean.columns"
   ]
  },
  {
   "cell_type": "code",
   "execution_count": null,
   "metadata": {},
   "outputs": [],
   "source": [
    "df3_clean = df3_semi_clean.head()\n",
    "display(df3_clean)\n",
    "df3_clean.to_csv('hmda_2017_nationwide_first-lien-owner-occupied-1-4-family-records_labels_cutdown.csv')"
   ]
  }
 ],
 "metadata": {
  "kernelspec": {
   "display_name": "dev",
   "language": "python",
   "name": "python3"
  },
  "language_info": {
   "codemirror_mode": {
    "name": "ipython",
    "version": 3
   },
   "file_extension": ".py",
   "mimetype": "text/x-python",
   "name": "python",
   "nbconvert_exporter": "python",
   "pygments_lexer": "ipython3",
   "version": "3.7.13"
  },
  "orig_nbformat": 4
 },
 "nbformat": 4,
 "nbformat_minor": 2
}
